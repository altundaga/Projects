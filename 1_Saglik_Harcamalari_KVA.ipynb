{
 "cells": [
  {
   "cell_type": "markdown",
   "metadata": {},
   "source": [
    "# Sağlık Harcamalarını Neler Etkiliyor?\n",
    "## İçindekiler\n",
    "### 1.Giriş\n",
    "### 2.Veriye Genel Bakış\n",
    "### 3.Veri Temizliği\n",
    "### 4.Keşifsel Veri Analizi ve Özellik Mühendisliği\n",
    " #### 4.1 Tek Değişkenli Analiz\n",
    " #### 4.2 Çok Değişkenli Analiz ve Özellik Mühendisliği\n",
    "   ##### 4.2.a masraflar ile cinsiyet ilişkisi  \n",
    "   ##### 4.2.b masraflar ile sigara kullanımı ilişkisi  \n",
    "   ##### 4.2.c masraflar ile bölge ilişkisi  \n",
    "    \n",
    "### 5.Sonuç"
   ]
  },
  {
   "cell_type": "markdown",
   "metadata": {},
   "source": [
    "### 1.Giriş  \n",
    "Bu projemizde Birleşik Devletler'de sigorta kapsamında faturalandırılan bireysel sağlık harcamalarının, çeşitli kişisel bilgilerle sunulduğu bir veri kümesi ile çalışacağız. Veri kümesine [buradan ulaşabilirsiniz.](https://www.kaggle.com/mirichoi0218/insurance)  \n",
    "Verimizi tanımaya geçmeden ihtiyacımız olacak kütüphaneleri yüklüyoruz ve veri dosyamızı okuyoruz."
   ]
  },
  {
   "cell_type": "code",
   "execution_count": 61,
   "metadata": {},
   "outputs": [],
   "source": [
    "#gereken kütüphaneleri yüklüyoruz.\n",
    "import numpy as np\n",
    "import pandas as pd\n",
    "import matplotlib.pyplot as plt\n",
    "import seaborn as sns\n",
    "from scipy import stats\n",
    "from scipy.stats.mstats import winsorize\n",
    "%matplotlib inline\n",
    "import warnings\n",
    "\n",
    "warnings.filterwarnings('ignore')"
   ]
  },
  {
   "cell_type": "code",
   "execution_count": 62,
   "metadata": {},
   "outputs": [],
   "source": [
    "#veri dosyasını oku\n",
    "df=pd.read_csv('insurance.csv')"
   ]
  },
  {
   "cell_type": "markdown",
   "metadata": {},
   "source": [
    "### 2.Veriye Genel Bakış"
   ]
  },
  {
   "cell_type": "markdown",
   "metadata": {},
   "source": [
    "Verimiz neye benziyor bir bakalım."
   ]
  },
  {
   "cell_type": "code",
   "execution_count": 63,
   "metadata": {},
   "outputs": [
    {
     "data": {
      "text/html": [
       "<div>\n",
       "<style scoped>\n",
       "    .dataframe tbody tr th:only-of-type {\n",
       "        vertical-align: middle;\n",
       "    }\n",
       "\n",
       "    .dataframe tbody tr th {\n",
       "        vertical-align: top;\n",
       "    }\n",
       "\n",
       "    .dataframe thead th {\n",
       "        text-align: right;\n",
       "    }\n",
       "</style>\n",
       "<table border=\"1\" class=\"dataframe\">\n",
       "  <thead>\n",
       "    <tr style=\"text-align: right;\">\n",
       "      <th></th>\n",
       "      <th>age</th>\n",
       "      <th>sex</th>\n",
       "      <th>bmi</th>\n",
       "      <th>children</th>\n",
       "      <th>smoker</th>\n",
       "      <th>region</th>\n",
       "      <th>charges</th>\n",
       "    </tr>\n",
       "  </thead>\n",
       "  <tbody>\n",
       "    <tr>\n",
       "      <th>0</th>\n",
       "      <td>19</td>\n",
       "      <td>female</td>\n",
       "      <td>27.900</td>\n",
       "      <td>0</td>\n",
       "      <td>yes</td>\n",
       "      <td>southwest</td>\n",
       "      <td>16884.92400</td>\n",
       "    </tr>\n",
       "    <tr>\n",
       "      <th>1</th>\n",
       "      <td>18</td>\n",
       "      <td>male</td>\n",
       "      <td>33.770</td>\n",
       "      <td>1</td>\n",
       "      <td>no</td>\n",
       "      <td>southeast</td>\n",
       "      <td>1725.55230</td>\n",
       "    </tr>\n",
       "    <tr>\n",
       "      <th>2</th>\n",
       "      <td>28</td>\n",
       "      <td>male</td>\n",
       "      <td>33.000</td>\n",
       "      <td>3</td>\n",
       "      <td>no</td>\n",
       "      <td>southeast</td>\n",
       "      <td>4449.46200</td>\n",
       "    </tr>\n",
       "    <tr>\n",
       "      <th>3</th>\n",
       "      <td>33</td>\n",
       "      <td>male</td>\n",
       "      <td>22.705</td>\n",
       "      <td>0</td>\n",
       "      <td>no</td>\n",
       "      <td>northwest</td>\n",
       "      <td>21984.47061</td>\n",
       "    </tr>\n",
       "    <tr>\n",
       "      <th>4</th>\n",
       "      <td>32</td>\n",
       "      <td>male</td>\n",
       "      <td>28.880</td>\n",
       "      <td>0</td>\n",
       "      <td>no</td>\n",
       "      <td>northwest</td>\n",
       "      <td>3866.85520</td>\n",
       "    </tr>\n",
       "  </tbody>\n",
       "</table>\n",
       "</div>"
      ],
      "text/plain": [
       "   age     sex     bmi  children smoker     region      charges\n",
       "0   19  female  27.900         0    yes  southwest  16884.92400\n",
       "1   18    male  33.770         1     no  southeast   1725.55230\n",
       "2   28    male  33.000         3     no  southeast   4449.46200\n",
       "3   33    male  22.705         0     no  northwest  21984.47061\n",
       "4   32    male  28.880         0     no  northwest   3866.85520"
      ]
     },
     "execution_count": 63,
     "metadata": {},
     "output_type": "execute_result"
    }
   ],
   "source": [
    "#head ile ilk bakış \n",
    "df.head()"
   ]
  },
  {
   "cell_type": "markdown",
   "metadata": {},
   "source": [
    "Temel bilgileri edinelim."
   ]
  },
  {
   "cell_type": "code",
   "execution_count": 64,
   "metadata": {
    "scrolled": true
   },
   "outputs": [
    {
     "name": "stdout",
     "output_type": "stream",
     "text": [
      "<class 'pandas.core.frame.DataFrame'>\n",
      "RangeIndex: 1338 entries, 0 to 1337\n",
      "Data columns (total 7 columns):\n",
      "age         1338 non-null int64\n",
      "sex         1338 non-null object\n",
      "bmi         1338 non-null float64\n",
      "children    1338 non-null int64\n",
      "smoker      1338 non-null object\n",
      "region      1338 non-null object\n",
      "charges     1338 non-null float64\n",
      "dtypes: float64(2), int64(2), object(3)\n",
      "memory usage: 73.2+ KB\n"
     ]
    }
   ],
   "source": [
    "#info ile temel bilgileri edin.\n",
    "df.info()"
   ]
  },
  {
   "cell_type": "markdown",
   "metadata": {},
   "source": [
    "1338 satır ve 7 kolondan yani 7 değişkenden oluşan bir verimiz var. Değişken tiplerimizi tespit edelim, ne ifade ettiklerini açıklayalım.  \n",
    "Sürekli değişkenler:\n",
    "* age : kişilerin yaşı\n",
    "* bmi : vücut-kütle endeksi. \n",
    "* children :sigorta kapsamından yararlanan çocuk sayısı\n",
    "* charges  :sigorta kapsamında faturalandırılan sağlık harcamaları\n",
    "  \n",
    "Kategorik değişkenler:\n",
    "* sex    : cinsiyet\n",
    "* smoker :kişinin sigara kullanıp/kullanmadığı bilgisi\n",
    "* region : ülkenin hangi bölgesinde olunduğu"
   ]
  },
  {
   "cell_type": "markdown",
   "metadata": {},
   "source": [
    "En son kolondaki **charges** değişkenini hedef değişkenimiz olarak seçiyoruz. Masrafları neler etkiliyor proje sonunda bunu anlamaya çalışacağız. "
   ]
  },
  {
   "cell_type": "markdown",
   "metadata": {},
   "source": [
    "### 3.Veri Temizliği"
   ]
  },
  {
   "cell_type": "markdown",
   "metadata": {},
   "source": [
    "Eksik verimiz var mı? Var ise yüzdesi nedir? Sorularını cevaplayalım."
   ]
  },
  {
   "cell_type": "code",
   "execution_count": 65,
   "metadata": {
    "scrolled": true
   },
   "outputs": [
    {
     "data": {
      "text/plain": [
       "age         0.0\n",
       "sex         0.0\n",
       "bmi         0.0\n",
       "children    0.0\n",
       "smoker      0.0\n",
       "region      0.0\n",
       "charges     0.0\n",
       "dtype: float64"
      ]
     },
     "execution_count": 65,
     "metadata": {},
     "output_type": "execute_result"
    }
   ],
   "source": [
    "#eksik veri var mı? Yüzdesine bakalım.\n",
    "df.isnull().sum()*100/df.shape[0]"
   ]
  },
  {
   "cell_type": "markdown",
   "metadata": {},
   "source": [
    "Eksik verimiz yok. Tekrar eden satırlar var ise silelim, kontrol edelim."
   ]
  },
  {
   "cell_type": "code",
   "execution_count": 66,
   "metadata": {},
   "outputs": [
    {
     "name": "stdout",
     "output_type": "stream",
     "text": [
      "<class 'pandas.core.frame.DataFrame'>\n",
      "Int64Index: 1337 entries, 0 to 1337\n",
      "Data columns (total 7 columns):\n",
      "age         1337 non-null int64\n",
      "sex         1337 non-null object\n",
      "bmi         1337 non-null float64\n",
      "children    1337 non-null int64\n",
      "smoker      1337 non-null object\n",
      "region      1337 non-null object\n",
      "charges     1337 non-null float64\n",
      "dtypes: float64(2), int64(2), object(3)\n",
      "memory usage: 83.6+ KB\n"
     ]
    }
   ],
   "source": [
    "#duplicate kontrolü yap\n",
    "df.drop_duplicates(keep='first',inplace=True)\n",
    "df.info()"
   ]
  },
  {
   "cell_type": "markdown",
   "metadata": {},
   "source": [
    "İlk baştaki durumu ile aynı demek ki tekrarlı satır içermiyormuş. Her bir kolondaki tekil değerlerin sayısına bakalım."
   ]
  },
  {
   "cell_type": "code",
   "execution_count": 67,
   "metadata": {
    "scrolled": false
   },
   "outputs": [
    {
     "data": {
      "text/plain": [
       "age           47\n",
       "sex            2\n",
       "bmi          548\n",
       "children       6\n",
       "smoker         2\n",
       "region         4\n",
       "charges     1337\n",
       "dtype: int64"
      ]
     },
     "execution_count": 67,
     "metadata": {},
     "output_type": "execute_result"
    }
   ],
   "source": [
    "df.nunique()"
   ]
  },
  {
   "cell_type": "markdown",
   "metadata": {},
   "source": [
    "Tekil değerlerin sayılarında bir anormallik göze çarpmıyor. Hepsi beklendiği gibi.  \n",
    "Herhangi bir kolonda, toplam satır sayısı kadar ya da sadece bir tane tekil değer olsaydı; bu kolonların, örüntü bulmak için yaptığımız değerlendirmelerimizde pek bir faydası olmazdı diyebiliriz. Ama sonuca baktığımızda sadece **charges** her bir satırda farklı değere sahip. Hedef değişkenimiz olduğu için bir dengesizlik yok diyebiliriz. "
   ]
  },
  {
   "cell_type": "markdown",
   "metadata": {},
   "source": [
    "### 4.Keşifsel Veri Analizi ve Özellik Mühendisliği"
   ]
  },
  {
   "cell_type": "markdown",
   "metadata": {},
   "source": [
    "#### 4.1 Tek değişkenli Analiz"
   ]
  },
  {
   "cell_type": "markdown",
   "metadata": {},
   "source": [
    "Tek tek değişkenlerimizi inceleyelip tanımaya çalışalım. Sürekli değişkenlerimizin temel istatistikleri ile başlıyoruz."
   ]
  },
  {
   "cell_type": "code",
   "execution_count": 68,
   "metadata": {},
   "outputs": [
    {
     "data": {
      "text/html": [
       "<div>\n",
       "<style scoped>\n",
       "    .dataframe tbody tr th:only-of-type {\n",
       "        vertical-align: middle;\n",
       "    }\n",
       "\n",
       "    .dataframe tbody tr th {\n",
       "        vertical-align: top;\n",
       "    }\n",
       "\n",
       "    .dataframe thead th {\n",
       "        text-align: right;\n",
       "    }\n",
       "</style>\n",
       "<table border=\"1\" class=\"dataframe\">\n",
       "  <thead>\n",
       "    <tr style=\"text-align: right;\">\n",
       "      <th></th>\n",
       "      <th>age</th>\n",
       "      <th>bmi</th>\n",
       "      <th>children</th>\n",
       "      <th>charges</th>\n",
       "    </tr>\n",
       "  </thead>\n",
       "  <tbody>\n",
       "    <tr>\n",
       "      <th>count</th>\n",
       "      <td>1337.000000</td>\n",
       "      <td>1337.000000</td>\n",
       "      <td>1337.000000</td>\n",
       "      <td>1337.000000</td>\n",
       "    </tr>\n",
       "    <tr>\n",
       "      <th>mean</th>\n",
       "      <td>39.222139</td>\n",
       "      <td>30.663452</td>\n",
       "      <td>1.095737</td>\n",
       "      <td>13279.121487</td>\n",
       "    </tr>\n",
       "    <tr>\n",
       "      <th>std</th>\n",
       "      <td>14.044333</td>\n",
       "      <td>6.100468</td>\n",
       "      <td>1.205571</td>\n",
       "      <td>12110.359656</td>\n",
       "    </tr>\n",
       "    <tr>\n",
       "      <th>min</th>\n",
       "      <td>18.000000</td>\n",
       "      <td>15.960000</td>\n",
       "      <td>0.000000</td>\n",
       "      <td>1121.873900</td>\n",
       "    </tr>\n",
       "    <tr>\n",
       "      <th>25%</th>\n",
       "      <td>27.000000</td>\n",
       "      <td>26.290000</td>\n",
       "      <td>0.000000</td>\n",
       "      <td>4746.344000</td>\n",
       "    </tr>\n",
       "    <tr>\n",
       "      <th>50%</th>\n",
       "      <td>39.000000</td>\n",
       "      <td>30.400000</td>\n",
       "      <td>1.000000</td>\n",
       "      <td>9386.161300</td>\n",
       "    </tr>\n",
       "    <tr>\n",
       "      <th>75%</th>\n",
       "      <td>51.000000</td>\n",
       "      <td>34.700000</td>\n",
       "      <td>2.000000</td>\n",
       "      <td>16657.717450</td>\n",
       "    </tr>\n",
       "    <tr>\n",
       "      <th>max</th>\n",
       "      <td>64.000000</td>\n",
       "      <td>53.130000</td>\n",
       "      <td>5.000000</td>\n",
       "      <td>63770.428010</td>\n",
       "    </tr>\n",
       "  </tbody>\n",
       "</table>\n",
       "</div>"
      ],
      "text/plain": [
       "               age          bmi     children       charges\n",
       "count  1337.000000  1337.000000  1337.000000   1337.000000\n",
       "mean     39.222139    30.663452     1.095737  13279.121487\n",
       "std      14.044333     6.100468     1.205571  12110.359656\n",
       "min      18.000000    15.960000     0.000000   1121.873900\n",
       "25%      27.000000    26.290000     0.000000   4746.344000\n",
       "50%      39.000000    30.400000     1.000000   9386.161300\n",
       "75%      51.000000    34.700000     2.000000  16657.717450\n",
       "max      64.000000    53.130000     5.000000  63770.428010"
      ]
     },
     "execution_count": 68,
     "metadata": {},
     "output_type": "execute_result"
    }
   ],
   "source": [
    "#Sürekli değişkenlerimizin temel istatistiklerine bakalım.\n",
    "df.describe()"
   ]
  },
  {
   "cell_type": "markdown",
   "metadata": {},
   "source": [
    "Tabloya bakınca değerlerin birbiriyle uyumlu olduğu görülüyor. Mean ile %50 ler arasında kayda değer fark yok. Yaş (**age**) için minimum 18, maximum 64 yasal olarak olası değerler. Çocuk sayılarında (**children**) da bir anormallik yok. Vücut-kitle endeksini (**bmi**) yorumlayabilmek için değerlerin bilimsel referans aralıklarına bakalım. Aralıklar aşağıdaki gibi:  \n",
    "\n",
    "BMİ Değeri ve Durumunuz\n",
    "\n",
    "18.5 kg/m2’nin altında ise = **zayıf**\n",
    "\n",
    "18.5-24.9 kg/m2 arasında ise = **normal kilolu**\n",
    "\n",
    "25-29.9 kg/m2 arasında ise = **fazla kilolu**\n",
    "\n",
    "30-34.9 kg/m2 arasında ise = **1.Derece obez**\n",
    "\n",
    "35-39.9 kg/m2 arasında ise = **2.Derece obez**\n",
    "\n",
    "40 kg/m2 üzerinde ise = **3.Derece morbid obez** \n",
    "\n",
    "Bu değerlere göre verimizdeki insanların **bmi** ortalaması **1.Derece obez** kategorisinde. Yine minimumm ve maximum değerleri bilimsel değerlere uygunluk gösteriyor.\n"
   ]
  },
  {
   "cell_type": "markdown",
   "metadata": {},
   "source": [
    "Sürekli değişkenlerimizin dağılımlarına bakalım."
   ]
  },
  {
   "cell_type": "code",
   "execution_count": 69,
   "metadata": {},
   "outputs": [
    {
     "data": {
      "image/png": "[encoded data removed]",
      "text/plain": [
       "<Figure size 1440x720 with 4 Axes>"
      ]
     },
     "metadata": {
      "needs_background": "light"
     },
     "output_type": "display_data"
    }
   ],
   "source": [
    "#sürekli değişkenlerin dağılımına bakalım.\n",
    "columns=['age','bmi','children','charges']\n",
    "plt.figure(figsize=(20,10))\n",
    "\n",
    "for i,j in zip(columns, range(1,5)):\n",
    "        plt.subplot(2,2,j)\n",
    "        plt.hist(df[i])\n",
    "        plt.title(i)\n",
    "plt.show()"
   ]
  },
  {
   "cell_type": "markdown",
   "metadata": {},
   "source": [
    "Aynı değişkenlerimizin kutu grafiklerine bakalım. Aykırı değer var mı yok mu inceleyelim."
   ]
  },
  {
   "cell_type": "code",
   "execution_count": 70,
   "metadata": {},
   "outputs": [
    {
     "data": {
      "image/png": "[encoded data removed]",
      "text/plain": [
       "<Figure size 1440x720 with 4 Axes>"
      ]
     },
     "metadata": {
      "needs_background": "light"
     },
     "output_type": "display_data"
    }
   ],
   "source": [
    "plt.figure(figsize=(20,10))\n",
    "\n",
    "for i ,j in zip(columns,range(1,5)) :\n",
    "    plt.subplot(2,2,j)\n",
    "    plt.boxplot(df[i])\n",
    "    plt.title(i)\n",
    "plt.show()"
   ]
  },
  {
   "cell_type": "markdown",
   "metadata": {},
   "source": [
    "Kutu grafiklerini incelediğimizde **bmi** ve **charges** değişkenleri için aykırı değerler görünüyor. Bu durum oldukça olası. İnsanlar aşırı kilolu olabilir, ameliyat, kaza vb gibi sağlık harcamasını yükselten durumlar yaşamış olabilirler. Bu verilerin analizimizde değerli olduğunu düşündüğümüzden aykırı değerleri bırakarak devam ediyoruz."
   ]
  },
  {
   "cell_type": "markdown",
   "metadata": {},
   "source": [
    "#### 4.2 Çok değişkenli Analiz  ve Özellik Mühendisliği"
   ]
  },
  {
   "cell_type": "markdown",
   "metadata": {},
   "source": [
    "Şimdi de değişkenlerimizin kendi aralarında ve  **hedef** değişkenimiz ile olan ilişkilerini inceleyelim. Sürekli değişkenlerin korelasyon matrislerine bakarak başlıyoruz."
   ]
  },
  {
   "cell_type": "code",
   "execution_count": 71,
   "metadata": {},
   "outputs": [
    {
     "data": {
      "text/html": [
       "<div>\n",
       "<style scoped>\n",
       "    .dataframe tbody tr th:only-of-type {\n",
       "        vertical-align: middle;\n",
       "    }\n",
       "\n",
       "    .dataframe tbody tr th {\n",
       "        vertical-align: top;\n",
       "    }\n",
       "\n",
       "    .dataframe thead th {\n",
       "        text-align: right;\n",
       "    }\n",
       "</style>\n",
       "<table border=\"1\" class=\"dataframe\">\n",
       "  <thead>\n",
       "    <tr style=\"text-align: right;\">\n",
       "      <th></th>\n",
       "      <th>age</th>\n",
       "      <th>bmi</th>\n",
       "      <th>children</th>\n",
       "      <th>charges</th>\n",
       "    </tr>\n",
       "  </thead>\n",
       "  <tbody>\n",
       "    <tr>\n",
       "      <th>age</th>\n",
       "      <td>1.000000</td>\n",
       "      <td>0.109344</td>\n",
       "      <td>0.041536</td>\n",
       "      <td>0.298308</td>\n",
       "    </tr>\n",
       "    <tr>\n",
       "      <th>bmi</th>\n",
       "      <td>0.109344</td>\n",
       "      <td>1.000000</td>\n",
       "      <td>0.012755</td>\n",
       "      <td>0.198401</td>\n",
       "    </tr>\n",
       "    <tr>\n",
       "      <th>children</th>\n",
       "      <td>0.041536</td>\n",
       "      <td>0.012755</td>\n",
       "      <td>1.000000</td>\n",
       "      <td>0.067389</td>\n",
       "    </tr>\n",
       "    <tr>\n",
       "      <th>charges</th>\n",
       "      <td>0.298308</td>\n",
       "      <td>0.198401</td>\n",
       "      <td>0.067389</td>\n",
       "      <td>1.000000</td>\n",
       "    </tr>\n",
       "  </tbody>\n",
       "</table>\n",
       "</div>"
      ],
      "text/plain": [
       "               age       bmi  children   charges\n",
       "age       1.000000  0.109344  0.041536  0.298308\n",
       "bmi       0.109344  1.000000  0.012755  0.198401\n",
       "children  0.041536  0.012755  1.000000  0.067389\n",
       "charges   0.298308  0.198401  0.067389  1.000000"
      ]
     },
     "execution_count": 71,
     "metadata": {},
     "output_type": "execute_result"
    }
   ],
   "source": [
    "#Sürekli değişkenlerin korelasyon matrisine bakalım.\n",
    "df.corr()"
   ]
  },
  {
   "cell_type": "markdown",
   "metadata": {},
   "source": [
    "Masraflarla(**charges**) yüksek korelasyonlu olan bir değişken yok. Ancak mevcut tabloya göre bir sıralama yaparsak;\n",
    "**charges** ile en çok **age** sonra **bmi** değişkenleri korele görünüyor. Diğer değişkenlerin kendi aralarındaki korelasyonları da çok çok düşük olduğundan sürekli değişkenlerin birbirleriyle ilişkilerini ayrıntılı olarak incelemeyeceğiz."
   ]
  },
  {
   "cell_type": "markdown",
   "metadata": {},
   "source": [
    "Kategorik değişkenlerle **charges** ilişkisine geçelim. Çubuk grafiklerden faydalanıyoruz burada.  \n",
    "Aşağıdaki grafiklerde **children** değişkenini de dahil ettik. Sürekli olmasına rağmen sadece 6 farklı ayrık değer aldığından kategorik gibi düşünülebilinir. Her bir çocuk sayısına karşılık da **charges**daki değişimi de görelim."
   ]
  },
  {
   "cell_type": "code",
   "execution_count": 72,
   "metadata": {},
   "outputs": [
    {
     "data": {
      "image/png": "[encoded data removed]",
      "text/plain": [
       "<Figure size 1440x720 with 4 Axes>"
      ]
     },
     "metadata": {
      "needs_background": "light"
     },
     "output_type": "display_data"
    }
   ],
   "source": [
    "baslik_font = {'family': 'arial', 'color': 'blue','weight': 'bold','size': 20 }\n",
    "plt.figure(figsize=(20,10))\n",
    "\n",
    "columns=['sex','smoker','region','children']\n",
    "\n",
    "for i ,j in zip(columns,range(1,5)) :\n",
    "    plt.subplot(2,2,j)\n",
    "    sns.barplot(df[i],df['charges'])\n",
    "    plt.title(i,fontdict = baslik_font)\n",
    "\n",
    "plt.show()\n"
   ]
  },
  {
   "cell_type": "markdown",
   "metadata": {},
   "source": [
    "Grafiklere bakarak masraflar(**charges**) değişkenin, diğer kolonlardaki verilerin ayrı her bir değerine göre, az ya da çok farklı bir değer aldığı görülüyor. Sadece **region**-**charges**\n",
    "grafiğinde Southwest ve Northwest arasında gözle görülebilen bir fark yok.  \n",
    "\n",
    "İlk söylenebilecekler:\n",
    "* erkek harcamaları kadınlara göre yüksek.\n",
    "* sigara kullananların harcamaları kullanmayanlara göre oldukça yüksek.\n",
    "* bölge grafiğinde en yüksek harcama southeast bölgesinde yapılmış.\n",
    "* çocuk sayısı 3'e kadar harcamaları artırmış görünse de 4 ve 5 çocuk durumunda harcamalar azalmış.  \n",
    "\n",
    "Aşağıda, tekrar, bu gözlemlenen farkların miktarlarına ve istatistiksel olarak anlamlı olup olmadıklarına bakalım."
   ]
  },
  {
   "cell_type": "markdown",
   "metadata": {},
   "source": [
    "##### 4.2.a masraflar ile cinsiyet ilişkisi"
   ]
  },
  {
   "cell_type": "markdown",
   "metadata": {},
   "source": [
    "Temelde amacımız **hedef** değişkenimizle olan ilişkisini incelemek. Ancak  cinsiyet değişkeninin diğer değişkenlerle olan ilişkisinde dikkate değer bir şey olup olmadığını da görebilmek için onların da ortalamarını tabloya dahil ediyoruz."
   ]
  },
  {
   "cell_type": "code",
   "execution_count": 73,
   "metadata": {
    "scrolled": true
   },
   "outputs": [
    {
     "data": {
      "text/html": [
       "<div>\n",
       "<style scoped>\n",
       "    .dataframe tbody tr th:only-of-type {\n",
       "        vertical-align: middle;\n",
       "    }\n",
       "\n",
       "    .dataframe tbody tr th {\n",
       "        vertical-align: top;\n",
       "    }\n",
       "\n",
       "    .dataframe thead th {\n",
       "        text-align: right;\n",
       "    }\n",
       "</style>\n",
       "<table border=\"1\" class=\"dataframe\">\n",
       "  <thead>\n",
       "    <tr style=\"text-align: right;\">\n",
       "      <th></th>\n",
       "      <th>age</th>\n",
       "      <th>bmi</th>\n",
       "      <th>children</th>\n",
       "      <th>charges</th>\n",
       "    </tr>\n",
       "    <tr>\n",
       "      <th>sex</th>\n",
       "      <th></th>\n",
       "      <th></th>\n",
       "      <th></th>\n",
       "      <th></th>\n",
       "    </tr>\n",
       "  </thead>\n",
       "  <tbody>\n",
       "    <tr>\n",
       "      <th>female</th>\n",
       "      <td>39.503021</td>\n",
       "      <td>30.377749</td>\n",
       "      <td>1.074018</td>\n",
       "      <td>12569.578844</td>\n",
       "    </tr>\n",
       "    <tr>\n",
       "      <th>male</th>\n",
       "      <td>38.946667</td>\n",
       "      <td>30.943652</td>\n",
       "      <td>1.117037</td>\n",
       "      <td>13974.998864</td>\n",
       "    </tr>\n",
       "  </tbody>\n",
       "</table>\n",
       "</div>"
      ],
      "text/plain": [
       "              age        bmi  children       charges\n",
       "sex                                                 \n",
       "female  39.503021  30.377749  1.074018  12569.578844\n",
       "male    38.946667  30.943652  1.117037  13974.998864"
      ]
     },
     "execution_count": 73,
     "metadata": {},
     "output_type": "execute_result"
    }
   ],
   "source": [
    "#cinsiyet ve masraf ilişkisi\n",
    "df.groupby('sex').mean()"
   ]
  },
  {
   "cell_type": "markdown",
   "metadata": {},
   "source": [
    "Cinsiyete göre **charges** ortalaması değişik değerler almış.Bu değişikliğin istatistiksel olarak anlamlı olup olmadığına t testi aracılığıyla bakalım. Diğer değişkenler cinsiyet değişiminde bariz bir fark görülmüyor."
   ]
  },
  {
   "cell_type": "code",
   "execution_count": 74,
   "metadata": {},
   "outputs": [
    {
     "data": {
      "text/plain": [
       "Ttest_indResult(statistic=-2.124391307062026, pvalue=0.0338207919951195)"
      ]
     },
     "execution_count": 74,
     "metadata": {},
     "output_type": "execute_result"
    }
   ],
   "source": [
    "female= df[df['sex']=='female']['charges']\n",
    "male = df[df['sex']=='male']['charges']\n",
    "\n",
    "stats.ttest_ind(female,male)"
   ]
  },
  {
   "cell_type": "markdown",
   "metadata": {},
   "source": [
    "Testimizin sonucu 0.05 'ten küçük olduğu için masrafların(**charges**) cinsiyete(**sex**) göre değiştiği ve erkeklerin sağlık harcamalarının daha fazla olduğu yorumunu yapabiliriz."
   ]
  },
  {
   "cell_type": "markdown",
   "metadata": {},
   "source": [
    "##### 4.2.b masraflar ile sigara kullanımı ilişkisi"
   ]
  },
  {
   "cell_type": "code",
   "execution_count": 75,
   "metadata": {
    "scrolled": true
   },
   "outputs": [
    {
     "data": {
      "text/html": [
       "<div>\n",
       "<style scoped>\n",
       "    .dataframe tbody tr th:only-of-type {\n",
       "        vertical-align: middle;\n",
       "    }\n",
       "\n",
       "    .dataframe tbody tr th {\n",
       "        vertical-align: top;\n",
       "    }\n",
       "\n",
       "    .dataframe thead th {\n",
       "        text-align: right;\n",
       "    }\n",
       "</style>\n",
       "<table border=\"1\" class=\"dataframe\">\n",
       "  <thead>\n",
       "    <tr style=\"text-align: right;\">\n",
       "      <th></th>\n",
       "      <th>age</th>\n",
       "      <th>bmi</th>\n",
       "      <th>children</th>\n",
       "      <th>charges</th>\n",
       "    </tr>\n",
       "    <tr>\n",
       "      <th>smoker</th>\n",
       "      <th></th>\n",
       "      <th></th>\n",
       "      <th></th>\n",
       "      <th></th>\n",
       "    </tr>\n",
       "  </thead>\n",
       "  <tbody>\n",
       "    <tr>\n",
       "      <th>no</th>\n",
       "      <td>39.404516</td>\n",
       "      <td>30.651853</td>\n",
       "      <td>1.091251</td>\n",
       "      <td>8440.660307</td>\n",
       "    </tr>\n",
       "    <tr>\n",
       "      <th>yes</th>\n",
       "      <td>38.514599</td>\n",
       "      <td>30.708449</td>\n",
       "      <td>1.113139</td>\n",
       "      <td>32050.231832</td>\n",
       "    </tr>\n",
       "  </tbody>\n",
       "</table>\n",
       "</div>"
      ],
      "text/plain": [
       "              age        bmi  children       charges\n",
       "smoker                                              \n",
       "no      39.404516  30.651853  1.091251   8440.660307\n",
       "yes     38.514599  30.708449  1.113139  32050.231832"
      ]
     },
     "execution_count": 75,
     "metadata": {},
     "output_type": "execute_result"
    }
   ],
   "source": [
    "df.groupby('smoker').mean()"
   ]
  },
  {
   "cell_type": "markdown",
   "metadata": {},
   "source": [
    "Sigara içip/içmeme durumuna göre **charges** ortalaması değişik değerler almış. Sigara içen müşterilerin çok daha fazla masrafı olduğu açıkça görülüyor. Ama biz yine de istatistiksel olarak olarak bu durumu doğrulayalım. Diğer değişkenlerde sigara kullanımı değişikliğine bağlı bariz bir fark görülmüyor."
   ]
  },
  {
   "cell_type": "code",
   "execution_count": 76,
   "metadata": {},
   "outputs": [
    {
     "data": {
      "text/plain": [
       "Ttest_indResult(statistic=-46.64479459840305, pvalue=1.4067220949376498e-282)"
      ]
     },
     "execution_count": 76,
     "metadata": {},
     "output_type": "execute_result"
    }
   ],
   "source": [
    "smoke_no= df[df['smoker']=='no']['charges']\n",
    "smoke_yes= df[df['smoker']=='yes']['charges']\n",
    "\n",
    "stats.ttest_ind(smoke_no,smoke_yes)"
   ]
  },
  {
   "cell_type": "markdown",
   "metadata": {},
   "source": [
    "Testimizin sonucu 0.05 'ten küçük olduğu için sigara kullanan müşterilerin  daha fazla harcama yaptığı yorumunu yapabiliriz."
   ]
  },
  {
   "cell_type": "markdown",
   "metadata": {},
   "source": [
    "##### 4.2.c masraflar ile bölge ilişkisi"
   ]
  },
  {
   "cell_type": "markdown",
   "metadata": {},
   "source": [
    "Yukarıda 'Veri Temizliği' kısmında ve grafiklerde görmüştük ama tekrar kaç farklı değer aldığına bakalım."
   ]
  },
  {
   "cell_type": "code",
   "execution_count": 77,
   "metadata": {},
   "outputs": [
    {
     "data": {
      "text/plain": [
       "array(['southwest', 'southeast', 'northwest', 'northeast'], dtype=object)"
      ]
     },
     "execution_count": 77,
     "metadata": {},
     "output_type": "execute_result"
    }
   ],
   "source": [
    "#Region değişkenimizde kaç farklı değer olduğuna bakalım.\n",
    "df['region'].unique()"
   ]
  },
  {
   "cell_type": "code",
   "execution_count": 78,
   "metadata": {
    "scrolled": true
   },
   "outputs": [
    {
     "data": {
      "text/html": [
       "<div>\n",
       "<style scoped>\n",
       "    .dataframe tbody tr th:only-of-type {\n",
       "        vertical-align: middle;\n",
       "    }\n",
       "\n",
       "    .dataframe tbody tr th {\n",
       "        vertical-align: top;\n",
       "    }\n",
       "\n",
       "    .dataframe thead th {\n",
       "        text-align: right;\n",
       "    }\n",
       "</style>\n",
       "<table border=\"1\" class=\"dataframe\">\n",
       "  <thead>\n",
       "    <tr style=\"text-align: right;\">\n",
       "      <th></th>\n",
       "      <th>age</th>\n",
       "      <th>bmi</th>\n",
       "      <th>children</th>\n",
       "      <th>charges</th>\n",
       "    </tr>\n",
       "    <tr>\n",
       "      <th>region</th>\n",
       "      <th></th>\n",
       "      <th></th>\n",
       "      <th></th>\n",
       "      <th></th>\n",
       "    </tr>\n",
       "  </thead>\n",
       "  <tbody>\n",
       "    <tr>\n",
       "      <th>northeast</th>\n",
       "      <td>39.268519</td>\n",
       "      <td>29.173503</td>\n",
       "      <td>1.046296</td>\n",
       "      <td>13406.384516</td>\n",
       "    </tr>\n",
       "    <tr>\n",
       "      <th>northwest</th>\n",
       "      <td>39.259259</td>\n",
       "      <td>29.195494</td>\n",
       "      <td>1.151235</td>\n",
       "      <td>12450.840844</td>\n",
       "    </tr>\n",
       "    <tr>\n",
       "      <th>southeast</th>\n",
       "      <td>38.939560</td>\n",
       "      <td>33.355989</td>\n",
       "      <td>1.049451</td>\n",
       "      <td>14735.411438</td>\n",
       "    </tr>\n",
       "    <tr>\n",
       "      <th>southwest</th>\n",
       "      <td>39.455385</td>\n",
       "      <td>30.596615</td>\n",
       "      <td>1.141538</td>\n",
       "      <td>12346.937377</td>\n",
       "    </tr>\n",
       "  </tbody>\n",
       "</table>\n",
       "</div>"
      ],
      "text/plain": [
       "                 age        bmi  children       charges\n",
       "region                                                 \n",
       "northeast  39.268519  29.173503  1.046296  13406.384516\n",
       "northwest  39.259259  29.195494  1.151235  12450.840844\n",
       "southeast  38.939560  33.355989  1.049451  14735.411438\n",
       "southwest  39.455385  30.596615  1.141538  12346.937377"
      ]
     },
     "execution_count": 78,
     "metadata": {},
     "output_type": "execute_result"
    }
   ],
   "source": [
    "df.groupby('region').mean()"
   ]
  },
  {
   "cell_type": "markdown",
   "metadata": {},
   "source": [
    "Bölgelere göre masraf değişkenin ortalaması  az da olsa farklı değerler almış. Bu farklılıkların istatistiksel olarak anlamlı olup olmadığına t testi aracılığıyla bakalım. Dört farklı bölgeyi tanımlayalım. Burada diğer değişkenlerde görülmeyen bir durum var. **bmi** SE bölgesinde diğer bölgelere göre daha fazla."
   ]
  },
  {
   "cell_type": "code",
   "execution_count": 79,
   "metadata": {},
   "outputs": [],
   "source": [
    "region_sw= df[df['region']=='southwest']['charges']\n",
    "region_se= df[df['region']=='southeast']['charges']\n",
    "region_nw= df[df['region']=='northwest']['charges']\n",
    "region_ne= df[df['region']=='northeast']['charges']\n"
   ]
  },
  {
   "cell_type": "markdown",
   "metadata": {},
   "source": [
    "Dört farklı bölge altı farklı ikili oluşturuyor. Bu altı durumu da ayrı ayrı değerlendiriyoruz."
   ]
  },
  {
   "cell_type": "code",
   "execution_count": 80,
   "metadata": {},
   "outputs": [
    {
     "name": "stdout",
     "output_type": "stream",
     "text": [
      " SW ve SE arasındaki iliski= Ttest_indResult(statistic=-2.428177355666804, pvalue=0.01543065109569136) \n",
      " SW ve NW arasındaki iliski= Ttest_indResult(statistic=-0.11693588076150004, pvalue=0.9069471528499122) \n",
      " SW ve NE arasındaki iliski= Ttest_indResult(statistic=-1.1829661143927035, pvalue=0.237257081445823) \n",
      " SE ve Nw arasındaki iliski= Ttest_indResult(statistic=2.3571935601351797, pvalue=0.01869363286194638) \n",
      " SE ve NE arasındaki iliski= Ttest_indResult(statistic=1.3631690378016945, pvalue=0.17327647641055313) \n",
      " NW ve NE arasındaki iliski= Ttest_indResult(statistic=-1.0893203629591868, pvalue=0.2764188256203434)\n"
     ]
    }
   ],
   "source": [
    "print(\" SW ve SE arasındaki iliski=\",stats.ttest_ind(region_sw,region_se),'\\n',\n",
    "\"SW ve NW arasındaki iliski=\",stats.ttest_ind(region_sw,region_nw),'\\n',\n",
    "\"SW ve NE arasındaki iliski=\",stats.ttest_ind(region_sw,region_ne),'\\n',\n",
    "\"SE ve Nw arasındaki iliski=\",stats.ttest_ind(region_se,region_nw),'\\n',\n",
    "\"SE ve NE arasındaki iliski=\",stats.ttest_ind(region_se,region_ne),'\\n',\n",
    "\"NW ve NE arasındaki iliski=\",stats.ttest_ind(region_nw,region_ne))"
   ]
  },
  {
   "cell_type": "markdown",
   "metadata": {},
   "source": [
    "Bölgeler arası t-testlerinin sonuçlarına baktığımızda SW-SE ve SE-NW bölgeleri arasındaki farklar istatistiksel olarak anlamlı. İki testte de SE ortak bölge. Grafiklere geri dönüp baktığımızda en yüksek harcamanın o bölgede olduğu görülüyor."
   ]
  },
  {
   "cell_type": "markdown",
   "metadata": {},
   "source": [
    "### 5. Sonuç"
   ]
  },
  {
   "cell_type": "markdown",
   "metadata": {},
   "source": [
    "Hedef değişkenimiz olan **charges**  ile pozitif korele değişkenler:  \n",
    "* age\n",
    "* bmi  \n",
    "\n",
    "Tekrar hatırlatalım. Bu korelasyon miktarları yüksek değil. Kendi içlerinde birbirlerine kıyasla daha fazla olanları seçtik.  \n",
    "\n",
    "Hedef değişkenimiz üzerinde etkisi olan kategorik değişkenlerimiz ve harcamaları artırdıkları durumlar:\n",
    "* smoker- kullanıyor \n",
    "* sex   -erkek\n",
    "* region -southeast  \n",
    "\n",
    "Bunlar içerisinde en etkili olan **smoker** değişkeni. Bir insanın sigara kullanıyor olması onun sağlık harcamalarını benzer durumlara göre oldukça fazlalaştırıyor.  \n",
    "\n",
    "'Keşifsel Veri Analizi' sürecinde yapılması gerekli temel işlemleri gerçekleştirdik. İlgili kütüphaneleri yükledik, veriye önbakış yaptık, temizledik, değişkenleri tekli ve çoklu analiz ettik ve nihayetinde _Sağlık Harcamalarını Neler Etkiliyor?_ sorumuza bazı cevaplar almış olduk.  \n",
    "\n"
   ]
  },
  {
   "cell_type": "code",
   "execution_count": null,
   "metadata": {},
   "outputs": [],
   "source": []
  }
 ],
 "metadata": {
  "kernelspec": {
   "display_name": "Python 3",
   "language": "python",
   "name": "python3"
  },
  "language_info": {
   "codemirror_mode": {
    "name": "ipython",
    "version": 3
   },
   "file_extension": ".py",
   "mimetype": "text/x-python",
   "name": "python",
   "nbconvert_exporter": "python",
   "pygments_lexer": "ipython3",
   "version": "3.7.2"
  }
 },
 "nbformat": 4,
 "nbformat_minor": 2
}
